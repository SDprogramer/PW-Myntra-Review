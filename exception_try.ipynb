{
 "cells": [
  {
   "cell_type": "code",
   "execution_count": 1,
   "metadata": {},
   "outputs": [
    {
     "name": "stdout",
     "output_type": "stream",
     "text": [
      "Error occurred python script name [2929848099.py] line number [27] error message [division by zero]\n",
      "Hello\n"
     ]
    }
   ],
   "source": [
    "import os\n",
    "import sys\n",
    "\n",
    "def error_message_detail(error, error_detail):\n",
    "    _, _, exc_tb = error_detail.exc_info()\n",
    "    file_name = os.path.split(exc_tb.tb_frame.f_code.co_filename)[1]\n",
    "    error_message = \"Error occurred python script name [{0}] line number [{1}] error message [{2}]\".format(\n",
    "        file_name, exc_tb.tb_lineno, str(error)\n",
    "    )\n",
    "\n",
    "    return error_message\n",
    "\n",
    "class CustomException(Exception):\n",
    "    def __init__(self, error_message, error_detail):\n",
    "        \"\"\"\n",
    "        :param error_message: error message in string format\n",
    "        \"\"\"\n",
    "        super().__init__(error_message)\n",
    "        self.error_message = error_message_detail(\n",
    "            error_message, error_detail = error_detail\n",
    "        )\n",
    "        \n",
    "    def __str__(self):\n",
    "        return self.error_message   \n",
    "    \n",
    "try:\n",
    "    a = 1 / 0\n",
    "except Exception as e:\n",
    "    print(CustomException(str(e), sys)) # This qwill print the exception details without stopping the progress\n",
    "\n",
    "print(\"Hello\")\n"
   ]
  },
  {
   "cell_type": "code",
   "execution_count": null,
   "metadata": {},
   "outputs": [],
   "source": []
  }
 ],
 "metadata": {
  "kernelspec": {
   "display_name": "Python 3",
   "language": "python",
   "name": "python3"
  },
  "language_info": {
   "codemirror_mode": {
    "name": "ipython",
    "version": 3
   },
   "file_extension": ".py",
   "mimetype": "text/x-python",
   "name": "python",
   "nbconvert_exporter": "python",
   "pygments_lexer": "ipython3",
   "version": "3.10.15"
  }
 },
 "nbformat": 4,
 "nbformat_minor": 2
}
